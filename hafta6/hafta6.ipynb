{
 "cells": [
  {
   "cell_type": "code",
   "execution_count": 1,
   "id": "69b627da",
   "metadata": {},
   "outputs": [
    {
     "name": "stdout",
     "output_type": "stream",
     "text": [
      "İsim girin : fidan\n",
      "dersi seçin : matematik\n",
      "notunuzu girin: 100\n",
      "fidan adlı öğrencinin matematik notu: 100\n"
     ]
    }
   ],
   "source": [
    "ogrenci_notlari = {}\n",
    "\n",
    "isim = input(\"İsim girin : \")\n",
    "ders = input(\"dersi seçin : \")\n",
    "ogrenci_not = input(\"notunuzu girin: \")\n",
    "\n",
    "ogrenci_notlari[isim] = {ders : ogrenci_not}\n",
    "print(f\"{isim} adlı öğrencinin {ders} notu: {ogrenci_notlari[isim][ders]}\")"
   ]
  },
  {
   "cell_type": "code",
   "execution_count": null,
   "id": "b17f3708",
   "metadata": {},
   "outputs": [],
   "source": []
  }
 ],
 "metadata": {
  "kernelspec": {
   "display_name": "Python 3 (ipykernel)",
   "language": "python",
   "name": "python3"
  },
  "language_info": {
   "codemirror_mode": {
    "name": "ipython",
    "version": 3
   },
   "file_extension": ".py",
   "mimetype": "text/x-python",
   "name": "python",
   "nbconvert_exporter": "python",
   "pygments_lexer": "ipython3",
   "version": "3.11.4"
  }
 },
 "nbformat": 4,
 "nbformat_minor": 5
}
