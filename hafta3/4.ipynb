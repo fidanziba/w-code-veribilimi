{
 "cells": [
  {
   "cell_type": "code",
   "execution_count": 1,
   "id": "500da0dc",
   "metadata": {},
   "outputs": [
    {
     "name": "stdout",
     "output_type": "stream",
     "text": [
      "Adınız:fidan\n",
      "fidan\n"
     ]
    }
   ],
   "source": [
    "isim = input(\"Adınız:\")\n",
    "print(isim)"
   ]
  },
  {
   "cell_type": "code",
   "execution_count": 2,
   "id": "65f61438",
   "metadata": {},
   "outputs": [
    {
     "name": "stdout",
     "output_type": "stream",
     "text": [
      "Yaşınız:23\n",
      "23\n"
     ]
    }
   ],
   "source": [
    "yas = input(\"Yaşınız:\")\n",
    "print(yas)"
   ]
  },
  {
   "cell_type": "code",
   "execution_count": 3,
   "id": "124f3dcb",
   "metadata": {},
   "outputs": [
    {
     "name": "stdout",
     "output_type": "stream",
     "text": [
      "Şehir:Hatay\n",
      "Hatay\n"
     ]
    }
   ],
   "source": [
    "sehir = input(\"Şehir:\")\n",
    "print(sehir)"
   ]
  },
  {
   "cell_type": "code",
   "execution_count": 5,
   "id": "bc6df584",
   "metadata": {},
   "outputs": [
    {
     "name": "stdout",
     "output_type": "stream",
     "text": [
      "Meslek:öğrenci\n",
      "öğrenci\n"
     ]
    }
   ],
   "source": [
    "meslek = input(\"Meslek:\")\n",
    "print(meslek)"
   ]
  }
 ],
 "metadata": {
  "kernelspec": {
   "display_name": "Python 3 (ipykernel)",
   "language": "python",
   "name": "python3"
  },
  "language_info": {
   "codemirror_mode": {
    "name": "ipython",
    "version": 3
   },
   "file_extension": ".py",
   "mimetype": "text/x-python",
   "name": "python",
   "nbconvert_exporter": "python",
   "pygments_lexer": "ipython3",
   "version": "3.11.4"
  }
 },
 "nbformat": 4,
 "nbformat_minor": 5
}
