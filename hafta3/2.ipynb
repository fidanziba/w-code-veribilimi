{
 "cells": [
  {
   "cell_type": "code",
   "execution_count": null,
   "id": "b9fb051f",
   "metadata": {},
   "outputs": [],
   "source": [
    "fidan = 23\n",
    "çaglar= 21\n",
    "sinem = 20"
   ]
  },
  {
   "cell_type": "code",
   "execution_count": 1,
   "id": "0b88d304",
   "metadata": {},
   "outputs": [
    {
     "data": {
      "text/plain": [
       "True"
      ]
     },
     "execution_count": 1,
     "metadata": {},
     "output_type": "execute_result"
    }
   ],
   "source": [
    "21==21"
   ]
  },
  {
   "cell_type": "code",
   "execution_count": 2,
   "id": "9508edb7",
   "metadata": {},
   "outputs": [
    {
     "data": {
      "text/plain": [
       "False"
      ]
     },
     "execution_count": 2,
     "metadata": {},
     "output_type": "execute_result"
    }
   ],
   "source": [
    "23==20"
   ]
  },
  {
   "cell_type": "code",
   "execution_count": 3,
   "id": "d46c6b72",
   "metadata": {},
   "outputs": [
    {
     "data": {
      "text/plain": [
       "True"
      ]
     },
     "execution_count": 3,
     "metadata": {},
     "output_type": "execute_result"
    }
   ],
   "source": [
    "21!=23"
   ]
  },
  {
   "cell_type": "code",
   "execution_count": 4,
   "id": "3160a379",
   "metadata": {},
   "outputs": [
    {
     "data": {
      "text/plain": [
       "False"
      ]
     },
     "execution_count": 4,
     "metadata": {},
     "output_type": "execute_result"
    }
   ],
   "source": [
    "20!=20"
   ]
  },
  {
   "cell_type": "code",
   "execution_count": 5,
   "id": "e9366a41",
   "metadata": {},
   "outputs": [
    {
     "data": {
      "text/plain": [
       "False"
      ]
     },
     "execution_count": 5,
     "metadata": {},
     "output_type": "execute_result"
    }
   ],
   "source": [
    "21<20 and 23<21"
   ]
  },
  {
   "cell_type": "code",
   "execution_count": 6,
   "id": "cffc2b7b",
   "metadata": {},
   "outputs": [
    {
     "data": {
      "text/plain": [
       "True"
      ]
     },
     "execution_count": 6,
     "metadata": {},
     "output_type": "execute_result"
    }
   ],
   "source": [
    "23>21 and 21>20"
   ]
  },
  {
   "cell_type": "code",
   "execution_count": 7,
   "id": "80a3678c",
   "metadata": {},
   "outputs": [
    {
     "data": {
      "text/plain": [
       "True"
      ]
     },
     "execution_count": 7,
     "metadata": {},
     "output_type": "execute_result"
    }
   ],
   "source": [
    "23>20 or 21<20"
   ]
  },
  {
   "cell_type": "code",
   "execution_count": null,
   "id": "64af5107",
   "metadata": {},
   "outputs": [],
   "source": []
  }
 ],
 "metadata": {
  "kernelspec": {
   "display_name": "Python 3 (ipykernel)",
   "language": "python",
   "name": "python3"
  },
  "language_info": {
   "codemirror_mode": {
    "name": "ipython",
    "version": 3
   },
   "file_extension": ".py",
   "mimetype": "text/x-python",
   "name": "python",
   "nbconvert_exporter": "python",
   "pygments_lexer": "ipython3",
   "version": "3.11.4"
  }
 },
 "nbformat": 4,
 "nbformat_minor": 5
}
